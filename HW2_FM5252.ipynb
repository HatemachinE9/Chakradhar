{
  "nbformat": 4,
  "nbformat_minor": 0,
  "metadata": {
    "colab": {
      "name": "Assgn_2.ipynb",
      "provenance": [],
      "collapsed_sections": []
    },
    "kernelspec": {
      "name": "python3",
      "display_name": "Python 3"
    },
    "language_info": {
      "name": "python"
    }
  },
  "cells": [
    {
      "cell_type": "markdown",
      "source": [
        "###For three steps"
      ],
      "metadata": {
        "id": "HGhh1wHG5i_E"
      }
    },
    {
      "cell_type": "code",
      "source": [
        "import numpy as np\n",
        "\n",
        "def find_prices(S,K,r,T,sig,q):\n",
        "  t = T / 3\n",
        "  u = np.exp(sig*np.sqrt(t))\n",
        "  d = 1./u\n",
        "  p = (np.exp((r-q)*t)-d)/(u-d) \n",
        "  \n",
        "\n",
        "\n",
        "  ## Common values\n",
        "  S_uuu = S*u*u*u\n",
        "  S_uud = S*u*u*d\n",
        "  S_udd = S*u*d*d\n",
        "  S_ddd = S*d*d*d\n",
        "\n",
        "  S_uu = S*u*u\n",
        "  S_ud = S*u*d\n",
        "  S_dd = S*d*d\n",
        "\n",
        "  S_u = S*u\n",
        "  S_d = S*d\n",
        "\n",
        "  ## EUROPEAN PUT\n",
        "  P_uuu = max(K - S_uuu,0) \n",
        "  P_uud = max(K - S_uud,0) \n",
        "  P_udd = max(K - S_udd,0) \n",
        "  P_ddd = max(K - S_ddd,0) \n",
        "\n",
        "  P_uu = (p*P_uuu + (1-p)*P_uud)*(np.exp(r*t))\n",
        "  P_ud = (p*P_uud + (1-p)*P_udd)*(np.exp(r*t))\n",
        "  P_dd = (p*P_udd + (1-p)*P_ddd)*(np.exp(r*t))\n",
        "\n",
        "  P_u = (p*P_uu + (1-p)*P_ud)*(np.exp(r*t))\n",
        "  P_d = (p*P_ud + (1-p)*P_dd)*(np.exp(r*t))\n",
        "  \n",
        "\n",
        "  Put_P_Eur = (p*P_u + (1-p)*P_d)*(np.exp(r*t))\n",
        "\n",
        "  ## EUROPEAN CALL\n",
        "  P_uuu = max(S_uuu - K,0) \n",
        "  P_uud = max(S_uud - K,0) \n",
        "  P_udd = max(S_udd - K,0) \n",
        "  P_ddd = max(S_ddd - K,0) \n",
        "\n",
        "  P_uu = (p*P_uuu + (1-p)*P_uud)*(np.exp(r*t))\n",
        "  P_ud = (p*P_uud + (1-p)*P_udd)*(np.exp(r*t))\n",
        "  P_dd = (p*P_udd + (1-p)*P_ddd)*(np.exp(r*t))\n",
        "\n",
        "  P_u = (p*P_uu + (1-p)*P_ud)*(np.exp(r*t))\n",
        "  P_d = (p*P_ud + (1-p)*P_dd)*(np.exp(r*t))\n",
        "  \n",
        "\n",
        "  Call_P_Eur = (p*P_u + (1-p)*P_d)*(np.exp(r*t))\n",
        "\n",
        "  ## AMERICAN PUT\n",
        "  P_uuu = max(K - S_uuu,0) \n",
        "  P_uud = max(K - S_uud,0) \n",
        "  P_udd = max(K - S_udd,0) \n",
        "  P_ddd = max(K - S_ddd,0) \n",
        "\n",
        "  P_uu = max(K - S_uu,(p*P_uuu + (1-p)*P_uud)*(np.exp(r*t)))\n",
        "  P_ud = max(K - S_ud,(p*P_uud + (1-p)*P_udd)*(np.exp(r*t)))\n",
        "  P_dd = max(K - S_dd,(p*P_udd + (1-p)*P_ddd)*(np.exp(r*t)))\n",
        "\n",
        "  P_u = max(K - S_u,(p*P_uu + (1-p)*P_ud)*(np.exp(r*t)))\n",
        "  P_d = max(K - S_d,(p*P_ud + (1-p)*P_dd)*(np.exp(r*t)))\n",
        "\n",
        "\n",
        "\n",
        "\n",
        "  Put_P_Am = (p*P_u + (1-p)*P_d)*(np.exp(r*t))\n",
        "  \n",
        "  ## AMERICAN PUT\n",
        "  P_uuu = max(S_uuu - K,0) \n",
        "  P_uud = max(S_uud - K,0) \n",
        "  P_udd = max(S_udd - K,0) \n",
        "  P_ddd = max(S_ddd - K,0) \n",
        "\n",
        "  P_uu = max(S_uu - K,(p*P_uuu + (1-p)*P_uud)*(np.exp(r*t)))\n",
        "  P_ud = max(S_ud - K,(p*P_uud + (1-p)*P_udd)*(np.exp(r*t)))\n",
        "  P_dd = max(S_dd - K,(p*P_udd + (1-p)*P_ddd)*(np.exp(r*t)))\n",
        "\n",
        "  P_u = max(S_u - K,(p*P_uu + (1-p)*P_ud)*(np.exp(r*t)))\n",
        "  P_d = max(S_d - K,(p*P_ud + (1-p)*P_dd)*(np.exp(r*t)))\n",
        "\n",
        "  Call_P_Am = (p*P_u + (1-p)*P_d)*(np.exp(r*t))\n",
        "  \n",
        "  delta =  (P_u - P_d)/(S_u-S_d)\n",
        "\n",
        "  gamma = .5*((P_uu - P_ud)/(S_uu-S_ud) - (P_ud-P_dd)/(S_ud-S_dd)) / (S_uu - S_dd)\n",
        "\n",
        "  print('EUROPEAN PRICES:')\n",
        "  print('CALL:', Call_P_Eur)\n",
        "  print('PUT:', Put_P_Eur)  \n",
        "  print('AMERICAN PRICES:')\n",
        "  print('CALL:', Call_P_Am)\n",
        "  print('PUT:', Put_P_Am)\n",
        "  print('Delta', delta)\n",
        "  print('Gamma', gamma)\n",
        "\n",
        "find_prices(100,100,0.05,1,0.2,0.1)"
      ],
      "metadata": {
        "colab": {
          "base_uri": "https://localhost:8080/"
        },
        "id": "Ycxv08q9CBmX",
        "outputId": "21dbf6c6-36f0-4dcf-89ce-913f8a722d3e"
      },
      "execution_count": 33,
      "outputs": [
        {
          "output_type": "stream",
          "name": "stdout",
          "text": [
            "EUROPEAN PRICES:\n",
            "CALL: 6.482992833468532\n",
            "PUT: 11.610102471070931\n",
            "AMERICAN PRICES:\n",
            "CALL: 6.7606647787944585\n",
            "PUT: 11.610102471070931\n",
            "Delta 0.5000453270188459\n",
            "Gamma 0.006086073921498355\n"
          ]
        }
      ]
    }
  ]
}