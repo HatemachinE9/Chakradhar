{
  "nbformat": 4,
  "nbformat_minor": 0,
  "metadata": {
    "colab": {
      "name": "part1.ipynb",
      "provenance": []
    },
    "kernelspec": {
      "name": "python3",
      "display_name": "Python 3"
    },
    "language_info": {
      "name": "python"
    }
  },
  "cells": [
    {
      "cell_type": "code",
      "source": [
        "###Implied volatility using Newton's method\n",
        "\n",
        "import numpy as np\n",
        "from scipy.stats import norm\n",
        "\n",
        "def F(option_type,S,K,T,r,sigma):\n",
        "\n",
        "    d1 = (np.log(S / K) + (r - 0.5 * sigma ** 2) * T) / (sigma * np.sqrt(T))\n",
        "    \n",
        "    d2 = d1-sigma*np.sqrt(T)\n",
        "\n",
        "    if option_type == 'call':\n",
        "\n",
        "        price = S*norm.cdf(d1)-K*np.exp(-r*T)*norm.cdf(d2)\n",
        "\n",
        "    elif option_type =='put':\n",
        "\n",
        "        price = K*np.exp(-r*T)*norm.cdf(-d2)-S*norm.cdf(-d1)\n",
        "    \n",
        "    return price\n",
        "\n",
        "def vega(option_type,S,K,T,r,sigma,q=0.0):\n",
        "\n",
        "    d1 = (np.log(S / K) + (r - 0.5 * sigma ** 2) * T) / (sigma * np.sqrt(T))\n",
        "    \n",
        "    return S * np.sqrt(T)*norm.pdf(d1)\n",
        "\n",
        "def New(value, CP, S, K, T, r):\n",
        "\n",
        "    sigma = 0.5\n",
        "    \n",
        "    for i in range(0, 100):\n",
        "        \n",
        "        price = F(CP, S, K, T, r, sigma)\n",
        "        \n",
        "        V = vega(CP, S, K, T, r, sigma)\n",
        "\n",
        "        price = price\n",
        "      \n",
        "        diff = value - price\n",
        "\n",
        "        if (abs(diff) <  0.01):\n",
        "            \n",
        "            return sigma\n",
        "        \n",
        "        sigma = sigma + diff/V\n",
        "\n",
        "    return sigma\n",
        "\n",
        "option_price = 5\n",
        "K = 100\n",
        "T = 1\n",
        "S = 100\n",
        "r = 0.05\n",
        "option_type = 'call'\n",
        "\n",
        "imp = New(option_price, option_type, S, K, T, r)\n",
        "print('implied_vol:',imp) "
      ],
      "metadata": {
        "colab": {
          "base_uri": "https://localhost:8080/"
        },
        "id": "kv0K2cJ_N9T6",
        "outputId": "f33c35d3-4e57-4427-a76b-771e1beb0740"
      },
      "execution_count": 87,
      "outputs": [
        {
          "output_type": "stream",
          "name": "stdout",
          "text": [
            "implied_vol: 0.03545741925843452\n"
          ]
        }
      ]
    }
  ]
}