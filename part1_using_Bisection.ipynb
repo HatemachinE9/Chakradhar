{
  "nbformat": 4,
  "nbformat_minor": 0,
  "metadata": {
    "colab": {
      "name": "part1 using Bisection.ipynb",
      "provenance": []
    },
    "kernelspec": {
      "name": "python3",
      "display_name": "Python 3"
    },
    "language_info": {
      "name": "python"
    }
  },
  "cells": [
    {
      "cell_type": "code",
      "execution_count": 35,
      "metadata": {
        "colab": {
          "base_uri": "https://localhost:8080/"
        },
        "id": "2wRdz0kCqZci",
        "outputId": "0da65e2f-d2d4-4708-bd2a-8ea0f69ff78d"
      },
      "outputs": [
        {
          "output_type": "execute_result",
          "data": {
            "text/plain": [
              "0.17434768676757814"
            ]
          },
          "metadata": {},
          "execution_count": 35
        }
      ],
      "source": [
        "###Implied volatility using Bisection.\n",
        "\n",
        "import numpy as np\n",
        "import scipy.stats as ss\n",
        "\n",
        "def d1(S,K,T,r,q,sigma):\n",
        "    return(np.log(S/K)+(r - q +sigma**2/2.)*T)/sigma*np.sqrt(T)\n",
        "def d2(S,K,T,r,q,sigma):\n",
        "    return d1(S,K,T,r,q,sigma)-sigma*np.sqrt(T)\n",
        "def call(S,K,T,r,q,sigma):\n",
        "    return S*np.exp(-q*T)*ss.norm.cdf(d1(S,K,T,r,q,sigma))-K*np.exp(-r*T)*ss.norm.cdf(d2(S,K,T,r,q,sigma))\n",
        "def put(S,K,T,r,q,sigma):\n",
        "    return K*np.exp(-r*T)-S*np.exp(-q*T)+call(S,K,T,r,q,sigma)\n",
        "#Implied volatility\n",
        "def Vol(option_price, S, K, r, T, q, option_type):\n",
        "    a = 0.01 \n",
        "    b = 25\n",
        "    max_vol = 25\n",
        "    i = 0    \n",
        "    while 1:\n",
        "        i+=1 \n",
        "        mid_vol = (a + b)/2.0\n",
        "        if option_type == 'call':\n",
        "            price = call(S,K,T,r,q,mid_vol)\n",
        "            new_price = call(S,K,T,r,q,a)\n",
        "            if (new_price-option_price)*(price-option_price)>0:\n",
        "                a = mid_vol \n",
        "            else:\n",
        "                b = mid_vol\n",
        "            if abs(price-option_price)< 0.01: break\n",
        "            if mid_vol>max_vol - 5 : \n",
        "                mid_vol = 0.01\n",
        "                break\n",
        "\n",
        "        elif option_type == 'put':\n",
        "            price = put(S,K,T,r,q,mid_vol)\n",
        "            new_price = put(S,K,T,r,q,b)\n",
        "            if (new_price-option_price) * (price-option_price) > 0:\n",
        "                b = mid_vol \n",
        "            else:\n",
        "                a = mid_vol            \n",
        "            if abs(price-option_price) < 0.01: break \n",
        "            if i > 100: break\n",
        "    return mid_vol \n",
        "\n",
        "Vol(7, 100, 105, 0.05, 1, 0,'call')   "
      ]
    },
    {
      "cell_type": "code",
      "source": [
        ""
      ],
      "metadata": {
        "id": "t_vcHh_UqaHU"
      },
      "execution_count": null,
      "outputs": []
    }
  ]
}